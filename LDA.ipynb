{
 "cells": [
  {
   "cell_type": "markdown",
   "id": "948918d4",
   "metadata": {},
   "source": [
    "总的来说呢，这个方法推导起来一堆东西，但是代码的实现却比较简单。对推倒原理感兴趣的可以Google一下。"
   ]
  },
  {
   "cell_type": "markdown",
   "id": "22e268f8",
   "metadata": {},
   "source": [
    "# 这篇还是一样，分为暴力纯手写LDA，和sklearn的LDA"
   ]
  },
  {
   "cell_type": "markdown",
   "id": "d251c9ad",
   "metadata": {},
   "source": [
    "说到LDA，首先会想起PCA。两个各自的特性如下：\n",
    "- PCA的目标是将一开始高维的数据降维，并尽可能保留重要信息。然后保留类内差异最大的特征（维度）（方差最大）。\n",
    "- LDA的目标是通过保留包含跨类最佳分离特征值的组件来区分低维空间中的不同类。\n",
    "\n",
    "直观来说，就是："
   ]
  },
  {
   "cell_type": "markdown",
   "id": "dc612dde",
   "metadata": {},
   "source": [
    "![](PCA_LDA.png)"
   ]
  },
  {
   "cell_type": "markdown",
   "id": "210396e8",
   "metadata": {},
   "source": [
    "对于满足LDA模型，数据需要做到：\n",
    "- 删除异常值（异常值会使均值和方差的计算受到影响，从而影响LDA的计算）\n",
    "- 数据需标准化\n",
    "- 对每个输入特征进行单变量分析，如果它们不表现出高斯分布，则将其转换为高斯分布（指数分布的对数和根）。"
   ]
  },
  {
   "cell_type": "markdown",
   "id": "c40ea6ca",
   "metadata": {},
   "source": [
    "LDA需要满足以下假设：\n",
    "- 数据集中的每个特征（变量、维度或属性）都是高斯分布。换句话说，数据集中的每个特征都形状像钟形曲线。\n",
    "- 每个特征都有相同的方差，每个特征的值围绕平均值变化，平均数量相同。\n",
    "- 假设每个特征都是随机抽样的。\n",
    "- 独立特征缺乏多共线性。独立特征与预测能力之间相关性的增加会降低"
   ]
  },
  {
   "cell_type": "markdown",
   "id": "f3f45b30",
   "metadata": {},
   "source": [
    "LDA的算法流程：\n",
    "1. 计算每一个dependent variable的均值。\n",
    "2. 计算类内散度矩阵和类间散度矩阵。\n",
    "3. 计算SW（类内散射矩阵）和SB（类间散射矩阵）的特征值和特征向量。\n",
    "4. 按降序对特征值进行排序，然后选择top k.\n",
    "5. 创建一个新的矩阵包含对应到k个特征值的特征向量。\n",
    "6. 通过数据和矩阵的点积来obtain new feature。"
   ]
  },
  {
   "cell_type": "markdown",
   "id": "0efa2d86",
   "metadata": {},
   "source": [
    "## 手写LDA"
   ]
  },
  {
   "cell_type": "code",
   "execution_count": 1,
   "id": "cd31775f",
   "metadata": {},
   "outputs": [],
   "source": [
    "from sklearn.datasets import load_wine\n",
    "import pandas as pd\n",
    "import numpy as np\n",
    "from matplotlib import pyplot as plt\n",
    "from sklearn.preprocessing import LabelEncoder\n",
    "from sklearn.ensemble import RandomForestClassifier #用作最终的分类\n",
    "from sklearn.model_selection import train_test_split\n",
    "from sklearn.metrics import confusion_matrix"
   ]
  },
  {
   "cell_type": "markdown",
   "id": "52a04fcf",
   "metadata": {},
   "source": [
    "先简单了解下数据"
   ]
  },
  {
   "cell_type": "code",
   "execution_count": 2,
   "id": "9ec99b69",
   "metadata": {},
   "outputs": [],
   "source": [
    "winedataset = load_wine()\n",
    "feature = pd.DataFrame(winedataset.data, columns=winedataset.feature_names)\n",
    "target = pd.Categorical.from_codes(winedataset.target,winedataset.target_names)"
   ]
  },
  {
   "cell_type": "code",
   "execution_count": 3,
   "id": "e73de13d",
   "metadata": {},
   "outputs": [
    {
     "data": {
      "text/html": [
       "<div>\n",
       "<style scoped>\n",
       "    .dataframe tbody tr th:only-of-type {\n",
       "        vertical-align: middle;\n",
       "    }\n",
       "\n",
       "    .dataframe tbody tr th {\n",
       "        vertical-align: top;\n",
       "    }\n",
       "\n",
       "    .dataframe thead th {\n",
       "        text-align: right;\n",
       "    }\n",
       "</style>\n",
       "<table border=\"1\" class=\"dataframe\">\n",
       "  <thead>\n",
       "    <tr style=\"text-align: right;\">\n",
       "      <th></th>\n",
       "      <th>alcohol</th>\n",
       "      <th>malic_acid</th>\n",
       "      <th>ash</th>\n",
       "      <th>alcalinity_of_ash</th>\n",
       "      <th>magnesium</th>\n",
       "      <th>total_phenols</th>\n",
       "      <th>flavanoids</th>\n",
       "      <th>nonflavanoid_phenols</th>\n",
       "      <th>proanthocyanins</th>\n",
       "      <th>color_intensity</th>\n",
       "      <th>hue</th>\n",
       "      <th>od280/od315_of_diluted_wines</th>\n",
       "      <th>proline</th>\n",
       "    </tr>\n",
       "  </thead>\n",
       "  <tbody>\n",
       "    <tr>\n",
       "      <th>0</th>\n",
       "      <td>14.23</td>\n",
       "      <td>1.71</td>\n",
       "      <td>2.43</td>\n",
       "      <td>15.6</td>\n",
       "      <td>127.0</td>\n",
       "      <td>2.80</td>\n",
       "      <td>3.06</td>\n",
       "      <td>0.28</td>\n",
       "      <td>2.29</td>\n",
       "      <td>5.64</td>\n",
       "      <td>1.04</td>\n",
       "      <td>3.92</td>\n",
       "      <td>1065.0</td>\n",
       "    </tr>\n",
       "    <tr>\n",
       "      <th>1</th>\n",
       "      <td>13.20</td>\n",
       "      <td>1.78</td>\n",
       "      <td>2.14</td>\n",
       "      <td>11.2</td>\n",
       "      <td>100.0</td>\n",
       "      <td>2.65</td>\n",
       "      <td>2.76</td>\n",
       "      <td>0.26</td>\n",
       "      <td>1.28</td>\n",
       "      <td>4.38</td>\n",
       "      <td>1.05</td>\n",
       "      <td>3.40</td>\n",
       "      <td>1050.0</td>\n",
       "    </tr>\n",
       "    <tr>\n",
       "      <th>2</th>\n",
       "      <td>13.16</td>\n",
       "      <td>2.36</td>\n",
       "      <td>2.67</td>\n",
       "      <td>18.6</td>\n",
       "      <td>101.0</td>\n",
       "      <td>2.80</td>\n",
       "      <td>3.24</td>\n",
       "      <td>0.30</td>\n",
       "      <td>2.81</td>\n",
       "      <td>5.68</td>\n",
       "      <td>1.03</td>\n",
       "      <td>3.17</td>\n",
       "      <td>1185.0</td>\n",
       "    </tr>\n",
       "    <tr>\n",
       "      <th>3</th>\n",
       "      <td>14.37</td>\n",
       "      <td>1.95</td>\n",
       "      <td>2.50</td>\n",
       "      <td>16.8</td>\n",
       "      <td>113.0</td>\n",
       "      <td>3.85</td>\n",
       "      <td>3.49</td>\n",
       "      <td>0.24</td>\n",
       "      <td>2.18</td>\n",
       "      <td>7.80</td>\n",
       "      <td>0.86</td>\n",
       "      <td>3.45</td>\n",
       "      <td>1480.0</td>\n",
       "    </tr>\n",
       "    <tr>\n",
       "      <th>4</th>\n",
       "      <td>13.24</td>\n",
       "      <td>2.59</td>\n",
       "      <td>2.87</td>\n",
       "      <td>21.0</td>\n",
       "      <td>118.0</td>\n",
       "      <td>2.80</td>\n",
       "      <td>2.69</td>\n",
       "      <td>0.39</td>\n",
       "      <td>1.82</td>\n",
       "      <td>4.32</td>\n",
       "      <td>1.04</td>\n",
       "      <td>2.93</td>\n",
       "      <td>735.0</td>\n",
       "    </tr>\n",
       "  </tbody>\n",
       "</table>\n",
       "</div>"
      ],
      "text/plain": [
       "   alcohol  malic_acid   ash  alcalinity_of_ash  magnesium  total_phenols  \\\n",
       "0    14.23        1.71  2.43               15.6      127.0           2.80   \n",
       "1    13.20        1.78  2.14               11.2      100.0           2.65   \n",
       "2    13.16        2.36  2.67               18.6      101.0           2.80   \n",
       "3    14.37        1.95  2.50               16.8      113.0           3.85   \n",
       "4    13.24        2.59  2.87               21.0      118.0           2.80   \n",
       "\n",
       "   flavanoids  nonflavanoid_phenols  proanthocyanins  color_intensity   hue  \\\n",
       "0        3.06                  0.28             2.29             5.64  1.04   \n",
       "1        2.76                  0.26             1.28             4.38  1.05   \n",
       "2        3.24                  0.30             2.81             5.68  1.03   \n",
       "3        3.49                  0.24             2.18             7.80  0.86   \n",
       "4        2.69                  0.39             1.82             4.32  1.04   \n",
       "\n",
       "   od280/od315_of_diluted_wines  proline  \n",
       "0                          3.92   1065.0  \n",
       "1                          3.40   1050.0  \n",
       "2                          3.17   1185.0  \n",
       "3                          3.45   1480.0  \n",
       "4                          2.93    735.0  "
      ]
     },
     "execution_count": 3,
     "metadata": {},
     "output_type": "execute_result"
    }
   ],
   "source": [
    "feature.head(5)"
   ]
  },
  {
   "cell_type": "code",
   "execution_count": 4,
   "id": "f218ec8e",
   "metadata": {},
   "outputs": [
    {
     "data": {
      "text/plain": [
       "(178, 13)"
      ]
     },
     "execution_count": 4,
     "metadata": {},
     "output_type": "execute_result"
    }
   ],
   "source": [
    "feature.shape #178行，13个变量"
   ]
  },
  {
   "cell_type": "code",
   "execution_count": 5,
   "id": "a39cba58",
   "metadata": {},
   "outputs": [
    {
     "name": "stdout",
     "output_type": "stream",
     "text": [
      "<class 'pandas.core.frame.DataFrame'>\n",
      "RangeIndex: 178 entries, 0 to 177\n",
      "Data columns (total 13 columns):\n",
      " #   Column                        Non-Null Count  Dtype  \n",
      "---  ------                        --------------  -----  \n",
      " 0   alcohol                       178 non-null    float64\n",
      " 1   malic_acid                    178 non-null    float64\n",
      " 2   ash                           178 non-null    float64\n",
      " 3   alcalinity_of_ash             178 non-null    float64\n",
      " 4   magnesium                     178 non-null    float64\n",
      " 5   total_phenols                 178 non-null    float64\n",
      " 6   flavanoids                    178 non-null    float64\n",
      " 7   nonflavanoid_phenols          178 non-null    float64\n",
      " 8   proanthocyanins               178 non-null    float64\n",
      " 9   color_intensity               178 non-null    float64\n",
      " 10  hue                           178 non-null    float64\n",
      " 11  od280/od315_of_diluted_wines  178 non-null    float64\n",
      " 12  proline                       178 non-null    float64\n",
      "dtypes: float64(13)\n",
      "memory usage: 18.2 KB\n"
     ]
    }
   ],
   "source": [
    "feature.info() "
   ]
  },
  {
   "cell_type": "markdown",
   "id": "cc23c1e9",
   "metadata": {},
   "source": [
    "都是浮点数且没有missing value"
   ]
  },
  {
   "cell_type": "code",
   "execution_count": 6,
   "id": "64d9dc34",
   "metadata": {},
   "outputs": [
    {
     "data": {
      "text/plain": [
       "['class_0', 'class_0', 'class_0', 'class_0', 'class_0', ..., 'class_2', 'class_2', 'class_2', 'class_2', 'class_2']\n",
       "Length: 178\n",
       "Categories (3, object): ['class_0', 'class_1', 'class_2']"
      ]
     },
     "execution_count": 6,
     "metadata": {},
     "output_type": "execute_result"
    }
   ],
   "source": [
    "target"
   ]
  },
  {
   "cell_type": "markdown",
   "id": "34249243",
   "metadata": {},
   "source": [
    "解释变量是3分类"
   ]
  },
  {
   "cell_type": "markdown",
   "id": "608de550",
   "metadata": {},
   "source": [
    "然后，我们将“x”和“y” merge一下，创建个新的dataframe。"
   ]
  },
  {
   "cell_type": "code",
   "execution_count": 7,
   "id": "ac87a118",
   "metadata": {},
   "outputs": [],
   "source": [
    "wine = feature.join(pd.Series(target, name='class'))"
   ]
  },
  {
   "cell_type": "code",
   "execution_count": 8,
   "id": "6614d897",
   "metadata": {},
   "outputs": [
    {
     "data": {
      "text/html": [
       "<div>\n",
       "<style scoped>\n",
       "    .dataframe tbody tr th:only-of-type {\n",
       "        vertical-align: middle;\n",
       "    }\n",
       "\n",
       "    .dataframe tbody tr th {\n",
       "        vertical-align: top;\n",
       "    }\n",
       "\n",
       "    .dataframe thead th {\n",
       "        text-align: right;\n",
       "    }\n",
       "</style>\n",
       "<table border=\"1\" class=\"dataframe\">\n",
       "  <thead>\n",
       "    <tr style=\"text-align: right;\">\n",
       "      <th></th>\n",
       "      <th>alcohol</th>\n",
       "      <th>malic_acid</th>\n",
       "      <th>ash</th>\n",
       "      <th>alcalinity_of_ash</th>\n",
       "      <th>magnesium</th>\n",
       "      <th>total_phenols</th>\n",
       "      <th>flavanoids</th>\n",
       "      <th>nonflavanoid_phenols</th>\n",
       "      <th>proanthocyanins</th>\n",
       "      <th>color_intensity</th>\n",
       "      <th>hue</th>\n",
       "      <th>od280/od315_of_diluted_wines</th>\n",
       "      <th>proline</th>\n",
       "      <th>class</th>\n",
       "    </tr>\n",
       "  </thead>\n",
       "  <tbody>\n",
       "    <tr>\n",
       "      <th>0</th>\n",
       "      <td>14.23</td>\n",
       "      <td>1.71</td>\n",
       "      <td>2.43</td>\n",
       "      <td>15.6</td>\n",
       "      <td>127.0</td>\n",
       "      <td>2.80</td>\n",
       "      <td>3.06</td>\n",
       "      <td>0.28</td>\n",
       "      <td>2.29</td>\n",
       "      <td>5.64</td>\n",
       "      <td>1.04</td>\n",
       "      <td>3.92</td>\n",
       "      <td>1065.0</td>\n",
       "      <td>class_0</td>\n",
       "    </tr>\n",
       "    <tr>\n",
       "      <th>1</th>\n",
       "      <td>13.20</td>\n",
       "      <td>1.78</td>\n",
       "      <td>2.14</td>\n",
       "      <td>11.2</td>\n",
       "      <td>100.0</td>\n",
       "      <td>2.65</td>\n",
       "      <td>2.76</td>\n",
       "      <td>0.26</td>\n",
       "      <td>1.28</td>\n",
       "      <td>4.38</td>\n",
       "      <td>1.05</td>\n",
       "      <td>3.40</td>\n",
       "      <td>1050.0</td>\n",
       "      <td>class_0</td>\n",
       "    </tr>\n",
       "    <tr>\n",
       "      <th>2</th>\n",
       "      <td>13.16</td>\n",
       "      <td>2.36</td>\n",
       "      <td>2.67</td>\n",
       "      <td>18.6</td>\n",
       "      <td>101.0</td>\n",
       "      <td>2.80</td>\n",
       "      <td>3.24</td>\n",
       "      <td>0.30</td>\n",
       "      <td>2.81</td>\n",
       "      <td>5.68</td>\n",
       "      <td>1.03</td>\n",
       "      <td>3.17</td>\n",
       "      <td>1185.0</td>\n",
       "      <td>class_0</td>\n",
       "    </tr>\n",
       "    <tr>\n",
       "      <th>3</th>\n",
       "      <td>14.37</td>\n",
       "      <td>1.95</td>\n",
       "      <td>2.50</td>\n",
       "      <td>16.8</td>\n",
       "      <td>113.0</td>\n",
       "      <td>3.85</td>\n",
       "      <td>3.49</td>\n",
       "      <td>0.24</td>\n",
       "      <td>2.18</td>\n",
       "      <td>7.80</td>\n",
       "      <td>0.86</td>\n",
       "      <td>3.45</td>\n",
       "      <td>1480.0</td>\n",
       "      <td>class_0</td>\n",
       "    </tr>\n",
       "    <tr>\n",
       "      <th>4</th>\n",
       "      <td>13.24</td>\n",
       "      <td>2.59</td>\n",
       "      <td>2.87</td>\n",
       "      <td>21.0</td>\n",
       "      <td>118.0</td>\n",
       "      <td>2.80</td>\n",
       "      <td>2.69</td>\n",
       "      <td>0.39</td>\n",
       "      <td>1.82</td>\n",
       "      <td>4.32</td>\n",
       "      <td>1.04</td>\n",
       "      <td>2.93</td>\n",
       "      <td>735.0</td>\n",
       "      <td>class_0</td>\n",
       "    </tr>\n",
       "    <tr>\n",
       "      <th>5</th>\n",
       "      <td>14.20</td>\n",
       "      <td>1.76</td>\n",
       "      <td>2.45</td>\n",
       "      <td>15.2</td>\n",
       "      <td>112.0</td>\n",
       "      <td>3.27</td>\n",
       "      <td>3.39</td>\n",
       "      <td>0.34</td>\n",
       "      <td>1.97</td>\n",
       "      <td>6.75</td>\n",
       "      <td>1.05</td>\n",
       "      <td>2.85</td>\n",
       "      <td>1450.0</td>\n",
       "      <td>class_0</td>\n",
       "    </tr>\n",
       "    <tr>\n",
       "      <th>6</th>\n",
       "      <td>14.39</td>\n",
       "      <td>1.87</td>\n",
       "      <td>2.45</td>\n",
       "      <td>14.6</td>\n",
       "      <td>96.0</td>\n",
       "      <td>2.50</td>\n",
       "      <td>2.52</td>\n",
       "      <td>0.30</td>\n",
       "      <td>1.98</td>\n",
       "      <td>5.25</td>\n",
       "      <td>1.02</td>\n",
       "      <td>3.58</td>\n",
       "      <td>1290.0</td>\n",
       "      <td>class_0</td>\n",
       "    </tr>\n",
       "    <tr>\n",
       "      <th>7</th>\n",
       "      <td>14.06</td>\n",
       "      <td>2.15</td>\n",
       "      <td>2.61</td>\n",
       "      <td>17.6</td>\n",
       "      <td>121.0</td>\n",
       "      <td>2.60</td>\n",
       "      <td>2.51</td>\n",
       "      <td>0.31</td>\n",
       "      <td>1.25</td>\n",
       "      <td>5.05</td>\n",
       "      <td>1.06</td>\n",
       "      <td>3.58</td>\n",
       "      <td>1295.0</td>\n",
       "      <td>class_0</td>\n",
       "    </tr>\n",
       "    <tr>\n",
       "      <th>8</th>\n",
       "      <td>14.83</td>\n",
       "      <td>1.64</td>\n",
       "      <td>2.17</td>\n",
       "      <td>14.0</td>\n",
       "      <td>97.0</td>\n",
       "      <td>2.80</td>\n",
       "      <td>2.98</td>\n",
       "      <td>0.29</td>\n",
       "      <td>1.98</td>\n",
       "      <td>5.20</td>\n",
       "      <td>1.08</td>\n",
       "      <td>2.85</td>\n",
       "      <td>1045.0</td>\n",
       "      <td>class_0</td>\n",
       "    </tr>\n",
       "    <tr>\n",
       "      <th>9</th>\n",
       "      <td>13.86</td>\n",
       "      <td>1.35</td>\n",
       "      <td>2.27</td>\n",
       "      <td>16.0</td>\n",
       "      <td>98.0</td>\n",
       "      <td>2.98</td>\n",
       "      <td>3.15</td>\n",
       "      <td>0.22</td>\n",
       "      <td>1.85</td>\n",
       "      <td>7.22</td>\n",
       "      <td>1.01</td>\n",
       "      <td>3.55</td>\n",
       "      <td>1045.0</td>\n",
       "      <td>class_0</td>\n",
       "    </tr>\n",
       "  </tbody>\n",
       "</table>\n",
       "</div>"
      ],
      "text/plain": [
       "   alcohol  malic_acid   ash  alcalinity_of_ash  magnesium  total_phenols  \\\n",
       "0    14.23        1.71  2.43               15.6      127.0           2.80   \n",
       "1    13.20        1.78  2.14               11.2      100.0           2.65   \n",
       "2    13.16        2.36  2.67               18.6      101.0           2.80   \n",
       "3    14.37        1.95  2.50               16.8      113.0           3.85   \n",
       "4    13.24        2.59  2.87               21.0      118.0           2.80   \n",
       "5    14.20        1.76  2.45               15.2      112.0           3.27   \n",
       "6    14.39        1.87  2.45               14.6       96.0           2.50   \n",
       "7    14.06        2.15  2.61               17.6      121.0           2.60   \n",
       "8    14.83        1.64  2.17               14.0       97.0           2.80   \n",
       "9    13.86        1.35  2.27               16.0       98.0           2.98   \n",
       "\n",
       "   flavanoids  nonflavanoid_phenols  proanthocyanins  color_intensity   hue  \\\n",
       "0        3.06                  0.28             2.29             5.64  1.04   \n",
       "1        2.76                  0.26             1.28             4.38  1.05   \n",
       "2        3.24                  0.30             2.81             5.68  1.03   \n",
       "3        3.49                  0.24             2.18             7.80  0.86   \n",
       "4        2.69                  0.39             1.82             4.32  1.04   \n",
       "5        3.39                  0.34             1.97             6.75  1.05   \n",
       "6        2.52                  0.30             1.98             5.25  1.02   \n",
       "7        2.51                  0.31             1.25             5.05  1.06   \n",
       "8        2.98                  0.29             1.98             5.20  1.08   \n",
       "9        3.15                  0.22             1.85             7.22  1.01   \n",
       "\n",
       "   od280/od315_of_diluted_wines  proline    class  \n",
       "0                          3.92   1065.0  class_0  \n",
       "1                          3.40   1050.0  class_0  \n",
       "2                          3.17   1185.0  class_0  \n",
       "3                          3.45   1480.0  class_0  \n",
       "4                          2.93    735.0  class_0  \n",
       "5                          2.85   1450.0  class_0  \n",
       "6                          3.58   1290.0  class_0  \n",
       "7                          3.58   1295.0  class_0  \n",
       "8                          2.85   1045.0  class_0  \n",
       "9                          3.55   1045.0  class_0  "
      ]
     },
     "execution_count": 8,
     "metadata": {},
     "output_type": "execute_result"
    }
   ],
   "source": [
    "wine[:10]"
   ]
  },
  {
   "cell_type": "markdown",
   "id": "23afe687",
   "metadata": {},
   "source": [
    "然后，计算下每个class对应的各个变量的均值"
   ]
  },
  {
   "cell_type": "code",
   "execution_count": 9,
   "id": "c3a93889",
   "metadata": {},
   "outputs": [
    {
     "data": {
      "text/html": [
       "<div>\n",
       "<style scoped>\n",
       "    .dataframe tbody tr th:only-of-type {\n",
       "        vertical-align: middle;\n",
       "    }\n",
       "\n",
       "    .dataframe tbody tr th {\n",
       "        vertical-align: top;\n",
       "    }\n",
       "\n",
       "    .dataframe thead th {\n",
       "        text-align: right;\n",
       "    }\n",
       "</style>\n",
       "<table border=\"1\" class=\"dataframe\">\n",
       "  <thead>\n",
       "    <tr style=\"text-align: right;\">\n",
       "      <th></th>\n",
       "      <th>class_0</th>\n",
       "      <th>class_1</th>\n",
       "      <th>class_2</th>\n",
       "    </tr>\n",
       "  </thead>\n",
       "  <tbody>\n",
       "    <tr>\n",
       "      <th>alcohol</th>\n",
       "      <td>13.744746</td>\n",
       "      <td>12.278732</td>\n",
       "      <td>13.153750</td>\n",
       "    </tr>\n",
       "    <tr>\n",
       "      <th>malic_acid</th>\n",
       "      <td>2.010678</td>\n",
       "      <td>1.932676</td>\n",
       "      <td>3.333750</td>\n",
       "    </tr>\n",
       "    <tr>\n",
       "      <th>ash</th>\n",
       "      <td>2.455593</td>\n",
       "      <td>2.244789</td>\n",
       "      <td>2.437083</td>\n",
       "    </tr>\n",
       "    <tr>\n",
       "      <th>alcalinity_of_ash</th>\n",
       "      <td>17.037288</td>\n",
       "      <td>20.238028</td>\n",
       "      <td>21.416667</td>\n",
       "    </tr>\n",
       "    <tr>\n",
       "      <th>magnesium</th>\n",
       "      <td>106.338983</td>\n",
       "      <td>94.549296</td>\n",
       "      <td>99.312500</td>\n",
       "    </tr>\n",
       "    <tr>\n",
       "      <th>total_phenols</th>\n",
       "      <td>2.840169</td>\n",
       "      <td>2.258873</td>\n",
       "      <td>1.678750</td>\n",
       "    </tr>\n",
       "    <tr>\n",
       "      <th>flavanoids</th>\n",
       "      <td>2.982373</td>\n",
       "      <td>2.080845</td>\n",
       "      <td>0.781458</td>\n",
       "    </tr>\n",
       "    <tr>\n",
       "      <th>nonflavanoid_phenols</th>\n",
       "      <td>0.290000</td>\n",
       "      <td>0.363662</td>\n",
       "      <td>0.447500</td>\n",
       "    </tr>\n",
       "    <tr>\n",
       "      <th>proanthocyanins</th>\n",
       "      <td>1.899322</td>\n",
       "      <td>1.630282</td>\n",
       "      <td>1.153542</td>\n",
       "    </tr>\n",
       "    <tr>\n",
       "      <th>color_intensity</th>\n",
       "      <td>5.528305</td>\n",
       "      <td>3.086620</td>\n",
       "      <td>7.396250</td>\n",
       "    </tr>\n",
       "    <tr>\n",
       "      <th>hue</th>\n",
       "      <td>1.062034</td>\n",
       "      <td>1.056282</td>\n",
       "      <td>0.682708</td>\n",
       "    </tr>\n",
       "    <tr>\n",
       "      <th>od280/od315_of_diluted_wines</th>\n",
       "      <td>3.157797</td>\n",
       "      <td>2.785352</td>\n",
       "      <td>1.683542</td>\n",
       "    </tr>\n",
       "    <tr>\n",
       "      <th>proline</th>\n",
       "      <td>1115.711864</td>\n",
       "      <td>519.507042</td>\n",
       "      <td>629.895833</td>\n",
       "    </tr>\n",
       "  </tbody>\n",
       "</table>\n",
       "</div>"
      ],
      "text/plain": [
       "                                  class_0     class_1     class_2\n",
       "alcohol                         13.744746   12.278732   13.153750\n",
       "malic_acid                       2.010678    1.932676    3.333750\n",
       "ash                              2.455593    2.244789    2.437083\n",
       "alcalinity_of_ash               17.037288   20.238028   21.416667\n",
       "magnesium                      106.338983   94.549296   99.312500\n",
       "total_phenols                    2.840169    2.258873    1.678750\n",
       "flavanoids                       2.982373    2.080845    0.781458\n",
       "nonflavanoid_phenols             0.290000    0.363662    0.447500\n",
       "proanthocyanins                  1.899322    1.630282    1.153542\n",
       "color_intensity                  5.528305    3.086620    7.396250\n",
       "hue                              1.062034    1.056282    0.682708\n",
       "od280/od315_of_diluted_wines     3.157797    2.785352    1.683542\n",
       "proline                       1115.711864  519.507042  629.895833"
      ]
     },
     "execution_count": 9,
     "metadata": {},
     "output_type": "execute_result"
    }
   ],
   "source": [
    "between_class_feature_means = pd.DataFrame(columns=winedataset.target_names)\n",
    "for i, rows in wine.groupby('class'):\n",
    "    between_class_feature_means[i] = rows.mean()\n",
    "between_class_feature_means"
   ]
  },
  {
   "cell_type": "markdown",
   "id": "af25e4b1",
   "metadata": {},
   "source": [
    "创建一个within class scatter matrix"
   ]
  },
  {
   "cell_type": "code",
   "execution_count": 10,
   "id": "38cd09a2",
   "metadata": {},
   "outputs": [],
   "source": [
    "within_class_scatter_matrix = np.zeros((13,13))\n",
    "for i, rows in wine.groupby('class'):\n",
    "    rows = rows.drop(['class'],axis=1)\n",
    "    \n",
    "    s = np.zeros((13,13))\n",
    "for index, row in rows.iterrows():\n",
    "    x,mc = row.values.reshape(13,1), between_class_feature_means[i].values.reshape(13,1)\n",
    "    \n",
    "    s += (x - mc).dot((x - mc).T)\n",
    "    \n",
    "within_class_scatter_matrix += s"
   ]
  },
  {
   "cell_type": "code",
   "execution_count": 11,
   "id": "391a82cb",
   "metadata": {},
   "outputs": [
    {
     "data": {
      "text/plain": [
       "array([[ 7.07948499e+01,  1.37229257e+01,  1.06684933e+01,\n",
       "        -1.31860426e+02,  5.52620156e+02,  2.12568615e+01,\n",
       "         3.00293312e+01, -2.61778351e+00,  8.30762344e+00,\n",
       "         1.38875865e+02, -2.49334780e+00,  8.25295347e+00,\n",
       "         2.69868967e+04],\n",
       "       [ 1.37229257e+01,  6.55780370e+01,  5.15564454e+00,\n",
       "         1.17928430e+02,  1.50619799e+00, -3.89429093e+01,\n",
       "        -7.95309567e+01,  5.42915083e+00, -2.79935518e+01,\n",
       "         1.59408872e+02, -1.79954555e+01, -5.99058382e+01,\n",
       "        -6.17091332e+03],\n",
       "       [ 1.06684933e+01,  5.15564454e+00,  1.75922271e+00,\n",
       "        -1.28292335e+01,  7.80946503e+01,  1.09001750e+00,\n",
       "         3.36713399e-01, -1.03155491e-01, -2.00866484e-01,\n",
       "         2.74298320e+01, -1.23513355e+00, -1.77465829e+00,\n",
       "         3.50726571e+03],\n",
       "       [-1.31860426e+02,  1.17928430e+02, -1.28292335e+01,\n",
       "         5.72833493e+02, -1.27015372e+03, -1.37801068e+02,\n",
       "        -2.50581989e+02,  1.84145559e+01, -8.29870886e+01,\n",
       "         4.34834234e+01, -3.52934937e+01, -1.55639047e+02,\n",
       "        -7.62681443e+04],\n",
       "       [ 5.52620156e+02,  1.50619799e+00,  7.80946503e+01,\n",
       "        -1.27015372e+03,  4.49100206e+03,  2.38215865e+02,\n",
       "         3.77678695e+02, -3.03994022e+01,  1.14541900e+02,\n",
       "         8.61660156e+02,  9.93296304e+00,  1.67665318e+02,\n",
       "         2.29797539e+05],\n",
       "       [ 2.12568615e+01, -3.89429093e+01,  1.09001750e+00,\n",
       "        -1.37801068e+02,  2.38215865e+02,  3.58567146e+01,\n",
       "         6.74345332e+01, -4.84923004e+00,  2.27564402e+01,\n",
       "        -4.89814827e+01,  1.12372963e+01,  4.45747036e+01,\n",
       "         1.59070799e+04],\n",
       "       [ 3.00293312e+01, -7.95309567e+01,  3.36713399e-01,\n",
       "        -2.50581989e+02,  3.77678695e+02,  6.74345332e+01,\n",
       "         1.28522390e+02, -9.16371427e+00,  4.36832868e+01,\n",
       "        -1.20821550e+02,  2.26986197e+01,  8.69365797e+01,\n",
       "         2.69147089e+04],\n",
       "       [-2.61778351e+00,  5.42915083e+00, -1.03155491e-01,\n",
       "         1.84145559e+01, -3.03994022e+01, -4.84923004e+00,\n",
       "        -9.16371427e+00,  6.56940315e-01, -3.10044839e+00,\n",
       "         7.36570138e+00, -1.56015008e+00, -6.10848963e+00,\n",
       "        -2.07373044e+03],\n",
       "       [ 8.30762344e+00, -2.79935518e+01, -2.00866484e-01,\n",
       "        -8.29870886e+01,  1.14541900e+02,  2.27564402e+01,\n",
       "         4.36832868e+01, -3.10044839e+00,  1.49039910e+01,\n",
       "        -4.60414313e+01,  7.94715278e+00,  2.99078276e+01,\n",
       "         8.53171104e+03],\n",
       "       [ 1.38875865e+02,  1.59408872e+02,  2.74298320e+01,\n",
       "         4.34834234e+01,  8.61660156e+02, -4.89814827e+01,\n",
       "        -1.20821550e+02,  7.36570138e+00, -4.60414313e+01,\n",
       "         5.51416002e+02, -4.17671854e+01, -1.13325428e+02,\n",
       "         2.89294497e+04],\n",
       "       [-2.49334780e+00, -1.79954555e+01, -1.23513355e+00,\n",
       "        -3.52934937e+01,  9.93296304e+00,  1.12372963e+01,\n",
       "         2.26986197e+01, -1.56015008e+00,  7.94715278e+00,\n",
       "        -4.17671854e+01,  4.96201983e+00,  1.68283682e+01,\n",
       "         2.22311156e+03],\n",
       "       [ 8.25295347e+00, -5.99058382e+01, -1.77465829e+00,\n",
       "        -1.55639047e+02,  1.67665318e+02,  4.45747036e+01,\n",
       "         8.69365797e+01, -6.10848963e+00,  2.99078276e+01,\n",
       "        -1.13325428e+02,  1.68283682e+01,  6.10870167e+01,\n",
       "         1.42921344e+04],\n",
       "       [ 2.69868967e+04, -6.17091332e+03,  3.50726571e+03,\n",
       "        -7.62681443e+04,  2.29797539e+05,  1.59070799e+04,\n",
       "         2.69147089e+04, -2.07373044e+03,  8.53171104e+03,\n",
       "         2.89294497e+04,  2.22311156e+03,  1.42921344e+04,\n",
       "         1.23536646e+07]])"
      ]
     },
     "execution_count": 11,
     "metadata": {},
     "output_type": "execute_result"
    }
   ],
   "source": [
    "feature_means = wine.mean()\n",
    "between_class_scatter_matrix = np.zeros((13,13))\n",
    "for i in between_class_feature_means:\n",
    "    n = len(wine.loc[wine['class'] == i].index)\n",
    "    \n",
    "    mc,m = between_class_feature_means[i].values.reshape(13,1),feature_means.values.reshape(13,1)\n",
    "    \n",
    "    between_class_scatter_matrix += n * (mc - m).dot((mc - m).T)\n",
    "between_class_scatter_matrix"
   ]
  },
  {
   "cell_type": "markdown",
   "id": "fe5d0d9f",
   "metadata": {},
   "source": [
    "整出了这个类内和类间的之后，可以算线性判别值了"
   ]
  },
  {
   "cell_type": "markdown",
   "id": "31e0745b",
   "metadata": {},
   "source": [
    "$ S^{-1}_{W}S_{B} $"
   ]
  },
  {
   "cell_type": "code",
   "execution_count": 12,
   "id": "23401fb9",
   "metadata": {},
   "outputs": [],
   "source": [
    "eigen_values, eigen_vectors = np.linalg.eig(np.linalg.inv(within_class_scatter_matrix).dot(between_class_scatter_matrix))"
   ]
  },
  {
   "cell_type": "markdown",
   "id": "2b0a32f8",
   "metadata": {},
   "source": [
    "特征值最高的特征向量携带数据分布的信息最多。现在我们可以排个序并转化为半分比看看（更直观些）"
   ]
  },
  {
   "cell_type": "code",
   "execution_count": 13,
   "id": "ee1fab1b",
   "metadata": {},
   "outputs": [
    {
     "name": "stdout",
     "output_type": "stream",
     "text": [
      "每个特征值的解释向量：\n",
      "eigenvector0:0.834825679938727\n",
      "eigenvector1:0.1651743200612729\n",
      "eigenvector2:5.002238296907953e-17\n",
      "eigenvector3:3.908055287088648e-17\n",
      "eigenvector4:3.908055287088648e-17\n",
      "eigenvector5:3.836117754667544e-17\n",
      "eigenvector6:3.836117754667544e-17\n",
      "eigenvector7:3.1970658186203857e-17\n",
      "eigenvector8:2.4980049061181467e-17\n",
      "eigenvector9:1.4184650575682753e-17\n",
      "eigenvector10:1.4184650575682753e-17\n",
      "eigenvector11:1.1414476981686563e-17\n",
      "eigenvector12:6.593528550568873e-18\n"
     ]
    }
   ],
   "source": [
    "pairs = [(np.abs(eigen_values[i]), eigen_vectors[:,i]) for i in range(len(eigen_values))]\n",
    "pairs = sorted(pairs, key=lambda x: x[0], reverse= True)\n",
    "\n",
    "print('每个特征值的解释向量：')\n",
    "for i , pair in enumerate(pairs):\n",
    "    print('eigenvector{}:{}'.format(i, (pair[0]/sum(eigen_values)).real))"
   ]
  },
  {
   "cell_type": "markdown",
   "id": "7bbba38c",
   "metadata": {},
   "source": [
    "现在为新的特征空间定义线性方程：\n",
    "$$ Y = X*W$$"
   ]
  },
  {
   "cell_type": "markdown",
   "id": "a0dc76e4",
   "metadata": {},
   "source": [
    "其中X是一个n×d矩阵，具有n个样本和d维度，Y是一个n×k矩阵，具有n个样本和k（k<n）维度。Y由LDA componets组成。"
   ]
  },
  {
   "cell_type": "code",
   "execution_count": 14,
   "id": "08d3ed0b",
   "metadata": {},
   "outputs": [],
   "source": [
    "# 矩阵W是前两个特征向量\n",
    "W = np.hstack((pairs[0][1].reshape(13,1), pairs[1][1].reshape(13,1))).real\n",
    "\n",
    "x_lda = np.array(feature.dot(W))"
   ]
  },
  {
   "cell_type": "code",
   "execution_count": 15,
   "id": "24e6daa6",
   "metadata": {},
   "outputs": [],
   "source": [
    "le = LabelEncoder() #encoder一下，将标签转成数字\n",
    "y = le.fit_transform(wine['class'])"
   ]
  },
  {
   "cell_type": "code",
   "execution_count": 16,
   "id": "8780284f",
   "metadata": {},
   "outputs": [
    {
     "data": {
      "text/plain": [
       "array([0, 0, 0, 0, 0, 0, 0, 0, 0, 0, 0, 0, 0, 0, 0, 0, 0, 0, 0, 0, 0, 0,\n",
       "       0, 0, 0, 0, 0, 0, 0, 0, 0, 0, 0, 0, 0, 0, 0, 0, 0, 0, 0, 0, 0, 0,\n",
       "       0, 0, 0, 0, 0, 0, 0, 0, 0, 0, 0, 0, 0, 0, 0, 1, 1, 1, 1, 1, 1, 1,\n",
       "       1, 1, 1, 1, 1, 1, 1, 1, 1, 1, 1, 1, 1, 1, 1, 1, 1, 1, 1, 1, 1, 1,\n",
       "       1, 1, 1, 1, 1, 1, 1, 1, 1, 1, 1, 1, 1, 1, 1, 1, 1, 1, 1, 1, 1, 1,\n",
       "       1, 1, 1, 1, 1, 1, 1, 1, 1, 1, 1, 1, 1, 1, 1, 1, 1, 1, 1, 1, 2, 2,\n",
       "       2, 2, 2, 2, 2, 2, 2, 2, 2, 2, 2, 2, 2, 2, 2, 2, 2, 2, 2, 2, 2, 2,\n",
       "       2, 2, 2, 2, 2, 2, 2, 2, 2, 2, 2, 2, 2, 2, 2, 2, 2, 2, 2, 2, 2, 2,\n",
       "       2, 2])"
      ]
     },
     "execution_count": 16,
     "metadata": {},
     "output_type": "execute_result"
    }
   ],
   "source": [
    "y"
   ]
  },
  {
   "cell_type": "markdown",
   "id": "df177625",
   "metadata": {},
   "source": [
    "画图"
   ]
  },
  {
   "cell_type": "code",
   "execution_count": 17,
   "id": "57b91aba",
   "metadata": {},
   "outputs": [
    {
     "data": {
      "text/plain": [
       "<matplotlib.collections.PathCollection at 0x7feb6c404668>"
      ]
     },
     "execution_count": 17,
     "metadata": {},
     "output_type": "execute_result"
    },
    {
     "data": {
      "image/png": "[encoded data removed]",
      "text/plain": [
       "<Figure size 432x288 with 1 Axes>"
      ]
     },
     "metadata": {
      "needs_background": "light"
     },
     "output_type": "display_data"
    }
   ],
   "source": [
    "plt.xlabel('LD1')\n",
    "plt.ylabel('LD2')\n",
    "plt.scatter(\n",
    "    x_lda[:,0],\n",
    "    x_lda[:,1],\n",
    "    c=y,\n",
    "    cmap='rainbow',\n",
    "    alpha=0.7,\n",
    "    edgecolors='r')"
   ]
  },
  {
   "cell_type": "markdown",
   "id": "608668ac",
   "metadata": {},
   "source": [
    "这一看就知道每个class都线性分的不错！！！！！"
   ]
  },
  {
   "cell_type": "markdown",
   "id": "aee30b24",
   "metadata": {},
   "source": [
    "# Scikit-Learn的LDA"
   ]
  },
  {
   "cell_type": "markdown",
   "id": "6cd878ed",
   "metadata": {},
   "source": [
    "这个就简单粗暴多了，直接调就好了"
   ]
  },
  {
   "cell_type": "code",
   "execution_count": 18,
   "id": "89af1dcf",
   "metadata": {},
   "outputs": [],
   "source": [
    "from sklearn.discriminant_analysis import LinearDiscriminantAnalysis\n",
    "sk_lda = LinearDiscriminantAnalysis()\n",
    "x_lda = sk_lda.fit_transform(feature,target)"
   ]
  },
  {
   "cell_type": "code",
   "execution_count": 19,
   "id": "560fd952",
   "metadata": {},
   "outputs": [
    {
     "data": {
      "text/plain": [
       "array([0.68747889, 0.31252111])"
      ]
     },
     "execution_count": 19,
     "metadata": {},
     "output_type": "execute_result"
    }
   ],
   "source": [
    "sk_lda.explained_variance_ratio_ #上面算半天，这里就一行代码的事"
   ]
  },
  {
   "cell_type": "code",
   "execution_count": 20,
   "id": "b9f534f6",
   "metadata": {},
   "outputs": [
    {
     "data": {
      "text/plain": [
       "<matplotlib.collections.PathCollection at 0x7feb67a25518>"
      ]
     },
     "execution_count": 20,
     "metadata": {},
     "output_type": "execute_result"
    },
    {
     "data": {
      "image/png": "[encoded data removed]",
      "text/plain": [
       "<Figure size 432x288 with 1 Axes>"
      ]
     },
     "metadata": {
      "needs_background": "light"
     },
     "output_type": "display_data"
    }
   ],
   "source": [
    "plt.xlabel('LD1')\n",
    "plt.ylabel('LD2')\n",
    "plt.scatter(\n",
    "    x_lda[:,0],\n",
    "    x_lda[:,1],\n",
    "    c=y,\n",
    "    cmap='rainbow',\n",
    "    alpha=0.7,\n",
    "    edgecolors='b')"
   ]
  },
  {
   "cell_type": "markdown",
   "id": "e840165d",
   "metadata": {},
   "source": [
    "两个很像，可能这个要好点"
   ]
  },
  {
   "cell_type": "markdown",
   "id": "45efd0ca",
   "metadata": {},
   "source": [
    "用随机森林整个分类出来看看效果。"
   ]
  },
  {
   "cell_type": "code",
   "execution_count": 21,
   "id": "74b40598",
   "metadata": {},
   "outputs": [],
   "source": [
    "X_train, X_test, y_train, y_test = train_test_split(x_lda,y,random_state=111)"
   ]
  },
  {
   "cell_type": "code",
   "execution_count": 22,
   "id": "42d18e69",
   "metadata": {},
   "outputs": [],
   "source": [
    "Model1 = RandomForestClassifier()\n",
    "Model1.fit(X_train, y_train)\n",
    "y_predict = Model1.predict(X_test)"
   ]
  },
  {
   "cell_type": "code",
   "execution_count": 23,
   "id": "b132d98f",
   "metadata": {},
   "outputs": [
    {
     "data": {
      "text/plain": [
       "array([[15,  0,  0],\n",
       "       [ 0, 17,  0],\n",
       "       [ 0,  0, 13]])"
      ]
     },
     "execution_count": 23,
     "metadata": {},
     "output_type": "execute_result"
    }
   ],
   "source": [
    "confusion_matrix(y_test,y_predict) #观察混淆矩阵"
   ]
  },
  {
   "cell_type": "markdown",
   "id": "ac3ae951",
   "metadata": {},
   "source": [
    "结果很完美！\n",
    "\n",
    "接下来用原始数据，而不是LDA的试试"
   ]
  },
  {
   "cell_type": "code",
   "execution_count": 24,
   "id": "dd8bab1b",
   "metadata": {},
   "outputs": [],
   "source": [
    "X_train1, X_test1, y_train1, y_test1 = train_test_split(feature,y,random_state=111)"
   ]
  },
  {
   "cell_type": "code",
   "execution_count": 25,
   "id": "5d9aa470",
   "metadata": {},
   "outputs": [],
   "source": [
    "Model2 = RandomForestClassifier()\n",
    "Model2.fit(X_train1, y_train1)\n",
    "y_predict1 = Model2.predict(X_test1)"
   ]
  },
  {
   "cell_type": "code",
   "execution_count": 26,
   "id": "96524fe0",
   "metadata": {},
   "outputs": [
    {
     "data": {
      "text/plain": [
       "array([[15,  0,  0],\n",
       "       [ 1, 15,  1],\n",
       "       [ 0,  0, 13]])"
      ]
     },
     "execution_count": 26,
     "metadata": {},
     "output_type": "execute_result"
    }
   ],
   "source": [
    "confusion_matrix(y_test1,y_predict1) #观察混淆矩阵"
   ]
  },
  {
   "cell_type": "markdown",
   "id": "7b36b0b9",
   "metadata": {},
   "source": [
    "## 这显示了一个Class1的错误和一个Class2的错误。这也说明，LDA对整个训练还是有价值的"
   ]
  }
 ],
 "metadata": {
  "kernelspec": {
   "display_name": "Python 3",
   "language": "python",
   "name": "python3"
  },
  "language_info": {
   "codemirror_mode": {
    "name": "ipython",
    "version": 3
   },
   "file_extension": ".py",
   "mimetype": "text/x-python",
   "name": "python",
   "nbconvert_exporter": "python",
   "pygments_lexer": "ipython3",
   "version": "3.6.7"
  }
 },
 "nbformat": 4,
 "nbformat_minor": 5
}
