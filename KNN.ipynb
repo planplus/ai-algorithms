{
 "cells": [
  {
   "cell_type": "markdown",
   "metadata": {
    "colab_type": "text",
    "id": "kkAcociwf9Y3"
   },
   "source": [
    "#  第3章 k近邻法"
   ]
  },
  {
   "cell_type": "code",
   "execution_count": 1,
   "metadata": {
    "colab": {},
    "colab_type": "code",
    "id": "tfyS6ufGf9Y5"
   },
   "outputs": [],
   "source": [
    "import numpy as np\n",
    "import pandas as pd\n",
    "import matplotlib.pyplot as plt\n",
    "import pprint\n",
    "\n",
    "from sklearn.datasets import load_iris\n",
    "from sklearn.model_selection import train_test_split\n",
    "\n",
    "from collections import Counter\n",
    "%matplotlib inline"
   ]
  },
  {
   "cell_type": "markdown",
   "metadata": {
    "colab_type": "text",
    "id": "pO7DjPbxOWfV"
   },
   "source": [
    "## 手写KNN"
   ]
  },
  {
   "cell_type": "markdown",
   "metadata": {},
   "source": [
    "K近邻模型主要是由距离度量、k值的选择和分类决策规则决定。"
   ]
  },
  {
   "cell_type": "markdown",
   "metadata": {
    "colab_type": "text",
    "id": "A4m_-DcEf9Y4"
   },
   "source": [
    "#### 距离度量（欧式距离）"
   ]
  },
  {
   "attachments": {},
   "cell_type": "markdown",
   "metadata": {},
   "source": [
    "![](knn.png)"
   ]
  },
  {
   "cell_type": "markdown",
   "metadata": {
    "colab_type": "text",
    "id": "foi6L24Qf9Y8"
   },
   "source": [
    "**distance**:  \n",
    "$ L_{p}\\left(x_{i}, x_{j}\\right)=\\left(\\sum_{l=1}^{n}\\left|x_{i}^{(l)}-x_{j}^{(l)}\\right|^{p}\\right)^{\\frac{1}{p}}$"
   ]
  },
  {
   "cell_type": "code",
   "execution_count": 2,
   "metadata": {
    "colab": {},
    "colab_type": "code",
    "id": "WNLAMMfDf9Y8"
   },
   "outputs": [],
   "source": [
    "def distance(x, y, p=2): #定义距离（其中，p=1是曼哈顿距离，p=2是欧氏距离，p为正无穷时，它是各个坐标距离的最大值）\n",
    "    \"\"\"计算两点之间的距离P.\n",
    "    input:\n",
    "        x: N*M 矩阵.\n",
    "        y: 1*M 矩阵.\n",
    "        p: 距离类型\n",
    "        \n",
    "    output:\n",
    "        N*1 x与y之间的距离的矩阵形式.\n",
    "    \"\"\"\n",
    "    try:\n",
    "        dis = np.power(np.sum(np.power(np.abs((x - y)), p), 1), 1/p)\n",
    "    except:\n",
    "        dis = np.power(np.sum(np.power(np.abs((x - y)), p)), 1/p)\n",
    "    \n",
    "    return dis"
   ]
  },
  {
   "cell_type": "markdown",
   "metadata": {},
   "source": [
    "注意：由不同距离度量所确定的最近近邻点是不同的！"
   ]
  },
  {
   "cell_type": "code",
   "execution_count": 3,
   "metadata": {
    "colab": {},
    "colab_type": "code",
    "id": "AkRiIfTQf9ZI"
   },
   "outputs": [],
   "source": [
    "# 这里使用经典的鸢尾花数据\n",
    "iris = load_iris()\n",
    "df = pd.DataFrame(iris.data, columns=iris.feature_names)\n",
    "df['label'] = iris.target\n",
    "df.columns = ['sepal length', 'sepal width', 'petal length', 'petal width', 'label']"
   ]
  },
  {
   "cell_type": "code",
   "execution_count": 4,
   "metadata": {
    "colab": {
     "base_uri": "https://localhost:8080/",
     "height": 197
    },
    "colab_type": "code",
    "id": "DnrG4bOCf9ZK",
    "outputId": "d4590079-5b25-4fce-a726-db6cc25788fb",
    "scrolled": true
   },
   "outputs": [
    {
     "data": {
      "text/html": [
       "<div>\n",
       "<style scoped>\n",
       "    .dataframe tbody tr th:only-of-type {\n",
       "        vertical-align: middle;\n",
       "    }\n",
       "\n",
       "    .dataframe tbody tr th {\n",
       "        vertical-align: top;\n",
       "    }\n",
       "\n",
       "    .dataframe thead th {\n",
       "        text-align: right;\n",
       "    }\n",
       "</style>\n",
       "<table border=\"1\" class=\"dataframe\">\n",
       "  <thead>\n",
       "    <tr style=\"text-align: right;\">\n",
       "      <th></th>\n",
       "      <th>sepal length</th>\n",
       "      <th>sepal width</th>\n",
       "      <th>petal length</th>\n",
       "      <th>petal width</th>\n",
       "      <th>label</th>\n",
       "    </tr>\n",
       "  </thead>\n",
       "  <tbody>\n",
       "    <tr>\n",
       "      <th>0</th>\n",
       "      <td>5.1</td>\n",
       "      <td>3.5</td>\n",
       "      <td>1.4</td>\n",
       "      <td>0.2</td>\n",
       "      <td>0</td>\n",
       "    </tr>\n",
       "    <tr>\n",
       "      <th>1</th>\n",
       "      <td>4.9</td>\n",
       "      <td>3.0</td>\n",
       "      <td>1.4</td>\n",
       "      <td>0.2</td>\n",
       "      <td>0</td>\n",
       "    </tr>\n",
       "    <tr>\n",
       "      <th>2</th>\n",
       "      <td>4.7</td>\n",
       "      <td>3.2</td>\n",
       "      <td>1.3</td>\n",
       "      <td>0.2</td>\n",
       "      <td>0</td>\n",
       "    </tr>\n",
       "    <tr>\n",
       "      <th>3</th>\n",
       "      <td>4.6</td>\n",
       "      <td>3.1</td>\n",
       "      <td>1.5</td>\n",
       "      <td>0.2</td>\n",
       "      <td>0</td>\n",
       "    </tr>\n",
       "    <tr>\n",
       "      <th>4</th>\n",
       "      <td>5.0</td>\n",
       "      <td>3.6</td>\n",
       "      <td>1.4</td>\n",
       "      <td>0.2</td>\n",
       "      <td>0</td>\n",
       "    </tr>\n",
       "    <tr>\n",
       "      <th>...</th>\n",
       "      <td>...</td>\n",
       "      <td>...</td>\n",
       "      <td>...</td>\n",
       "      <td>...</td>\n",
       "      <td>...</td>\n",
       "    </tr>\n",
       "    <tr>\n",
       "      <th>95</th>\n",
       "      <td>5.7</td>\n",
       "      <td>3.0</td>\n",
       "      <td>4.2</td>\n",
       "      <td>1.2</td>\n",
       "      <td>1</td>\n",
       "    </tr>\n",
       "    <tr>\n",
       "      <th>96</th>\n",
       "      <td>5.7</td>\n",
       "      <td>2.9</td>\n",
       "      <td>4.2</td>\n",
       "      <td>1.3</td>\n",
       "      <td>1</td>\n",
       "    </tr>\n",
       "    <tr>\n",
       "      <th>97</th>\n",
       "      <td>6.2</td>\n",
       "      <td>2.9</td>\n",
       "      <td>4.3</td>\n",
       "      <td>1.3</td>\n",
       "      <td>1</td>\n",
       "    </tr>\n",
       "    <tr>\n",
       "      <th>98</th>\n",
       "      <td>5.1</td>\n",
       "      <td>2.5</td>\n",
       "      <td>3.0</td>\n",
       "      <td>1.1</td>\n",
       "      <td>1</td>\n",
       "    </tr>\n",
       "    <tr>\n",
       "      <th>99</th>\n",
       "      <td>5.7</td>\n",
       "      <td>2.8</td>\n",
       "      <td>4.1</td>\n",
       "      <td>1.3</td>\n",
       "      <td>1</td>\n",
       "    </tr>\n",
       "  </tbody>\n",
       "</table>\n",
       "<p>100 rows × 5 columns</p>\n",
       "</div>"
      ],
      "text/plain": [
       "    sepal length  sepal width  petal length  petal width  label\n",
       "0            5.1          3.5           1.4          0.2      0\n",
       "1            4.9          3.0           1.4          0.2      0\n",
       "2            4.7          3.2           1.3          0.2      0\n",
       "3            4.6          3.1           1.5          0.2      0\n",
       "4            5.0          3.6           1.4          0.2      0\n",
       "..           ...          ...           ...          ...    ...\n",
       "95           5.7          3.0           4.2          1.2      1\n",
       "96           5.7          2.9           4.2          1.3      1\n",
       "97           6.2          2.9           4.3          1.3      1\n",
       "98           5.1          2.5           3.0          1.1      1\n",
       "99           5.7          2.8           4.1          1.3      1\n",
       "\n",
       "[100 rows x 5 columns]"
      ]
     },
     "execution_count": 4,
     "metadata": {},
     "output_type": "execute_result"
    }
   ],
   "source": [
    "df.head(100)"
   ]
  },
  {
   "cell_type": "code",
   "execution_count": 5,
   "metadata": {},
   "outputs": [
    {
     "data": {
      "text/html": [
       "<div>\n",
       "<style scoped>\n",
       "    .dataframe tbody tr th:only-of-type {\n",
       "        vertical-align: middle;\n",
       "    }\n",
       "\n",
       "    .dataframe tbody tr th {\n",
       "        vertical-align: top;\n",
       "    }\n",
       "\n",
       "    .dataframe thead th {\n",
       "        text-align: right;\n",
       "    }\n",
       "</style>\n",
       "<table border=\"1\" class=\"dataframe\">\n",
       "  <thead>\n",
       "    <tr style=\"text-align: right;\">\n",
       "      <th></th>\n",
       "      <th>sepal length</th>\n",
       "      <th>sepal width</th>\n",
       "      <th>petal length</th>\n",
       "      <th>petal width</th>\n",
       "      <th>label</th>\n",
       "    </tr>\n",
       "  </thead>\n",
       "  <tbody>\n",
       "    <tr>\n",
       "      <th>count</th>\n",
       "      <td>150.000000</td>\n",
       "      <td>150.000000</td>\n",
       "      <td>150.000000</td>\n",
       "      <td>150.000000</td>\n",
       "      <td>150.000000</td>\n",
       "    </tr>\n",
       "    <tr>\n",
       "      <th>mean</th>\n",
       "      <td>5.843333</td>\n",
       "      <td>3.057333</td>\n",
       "      <td>3.758000</td>\n",
       "      <td>1.199333</td>\n",
       "      <td>1.000000</td>\n",
       "    </tr>\n",
       "    <tr>\n",
       "      <th>std</th>\n",
       "      <td>0.828066</td>\n",
       "      <td>0.435866</td>\n",
       "      <td>1.765298</td>\n",
       "      <td>0.762238</td>\n",
       "      <td>0.819232</td>\n",
       "    </tr>\n",
       "    <tr>\n",
       "      <th>min</th>\n",
       "      <td>4.300000</td>\n",
       "      <td>2.000000</td>\n",
       "      <td>1.000000</td>\n",
       "      <td>0.100000</td>\n",
       "      <td>0.000000</td>\n",
       "    </tr>\n",
       "    <tr>\n",
       "      <th>25%</th>\n",
       "      <td>5.100000</td>\n",
       "      <td>2.800000</td>\n",
       "      <td>1.600000</td>\n",
       "      <td>0.300000</td>\n",
       "      <td>0.000000</td>\n",
       "    </tr>\n",
       "    <tr>\n",
       "      <th>50%</th>\n",
       "      <td>5.800000</td>\n",
       "      <td>3.000000</td>\n",
       "      <td>4.350000</td>\n",
       "      <td>1.300000</td>\n",
       "      <td>1.000000</td>\n",
       "    </tr>\n",
       "    <tr>\n",
       "      <th>75%</th>\n",
       "      <td>6.400000</td>\n",
       "      <td>3.300000</td>\n",
       "      <td>5.100000</td>\n",
       "      <td>1.800000</td>\n",
       "      <td>2.000000</td>\n",
       "    </tr>\n",
       "    <tr>\n",
       "      <th>max</th>\n",
       "      <td>7.900000</td>\n",
       "      <td>4.400000</td>\n",
       "      <td>6.900000</td>\n",
       "      <td>2.500000</td>\n",
       "      <td>2.000000</td>\n",
       "    </tr>\n",
       "  </tbody>\n",
       "</table>\n",
       "</div>"
      ],
      "text/plain": [
       "       sepal length  sepal width  petal length  petal width       label\n",
       "count    150.000000   150.000000    150.000000   150.000000  150.000000\n",
       "mean       5.843333     3.057333      3.758000     1.199333    1.000000\n",
       "std        0.828066     0.435866      1.765298     0.762238    0.819232\n",
       "min        4.300000     2.000000      1.000000     0.100000    0.000000\n",
       "25%        5.100000     2.800000      1.600000     0.300000    0.000000\n",
       "50%        5.800000     3.000000      4.350000     1.300000    1.000000\n",
       "75%        6.400000     3.300000      5.100000     1.800000    2.000000\n",
       "max        7.900000     4.400000      6.900000     2.500000    2.000000"
      ]
     },
     "execution_count": 5,
     "metadata": {},
     "output_type": "execute_result"
    }
   ],
   "source": [
    "df.describe()"
   ]
  },
  {
   "cell_type": "code",
   "execution_count": 6,
   "metadata": {
    "colab": {
     "base_uri": "https://localhost:8080/",
     "height": 300
    },
    "colab_type": "code",
    "id": "2OtLSARVf9ZN",
    "outputId": "8734156a-9184-433d-b93d-3e4843332df4"
   },
   "outputs": [
    {
     "data": {
      "text/plain": [
       "<matplotlib.legend.Legend at 0x7f81378ceac8>"
      ]
     },
     "execution_count": 6,
     "metadata": {},
     "output_type": "execute_result"
    },
    {
     "data": {
      "image/png": "[encoded data removed]",
      "text/plain": [
       "<Figure size 432x288 with 1 Axes>"
      ]
     },
     "metadata": {
      "needs_background": "light"
     },
     "output_type": "display_data"
    }
   ],
   "source": [
    "# 作图\n",
    "\n",
    "plt.scatter(df[:50]['sepal length'], df[:50]['sepal width'], label='0')\n",
    "plt.scatter(df[50:100]['sepal length'], df[50:100]['sepal width'], label='1')\n",
    "plt.xlabel('sepal length')\n",
    "plt.ylabel('sepal width')\n",
    "plt.legend()"
   ]
  },
  {
   "cell_type": "code",
   "execution_count": 23,
   "metadata": {
    "colab": {},
    "colab_type": "code",
    "id": "fJ4oYgrUf9ZQ"
   },
   "outputs": [],
   "source": [
    "# X, y\n",
    "data = np.array(df.iloc[:100, [0, 1, -1]])\n",
    "X, y = data[:,:-1], data[:,-1]\n",
    "X_train, X_test, y_train, y_test = train_test_split(X, y, test_size=0.2)"
   ]
  },
  {
   "cell_type": "code",
   "execution_count": 8,
   "metadata": {
    "colab": {},
    "colab_type": "code",
    "id": "fa9w8eBJf9ZS"
   },
   "outputs": [],
   "source": [
    "class KNN:\n",
    "    \"\"\"\n",
    "    KNN这个算法玩的就是暴力.\n",
    "    \"\"\"\n",
    "    def __init__(self, X_train, y_train, n_neighbors=1, p=2):\n",
    "        \"\"\"\n",
    "        n_neighbors: k\n",
    "                  p: type of distance\n",
    "        \"\"\"\n",
    "        self.k = n_neighbors\n",
    "        self.p = p\n",
    "        self.X_train = X_train\n",
    "        self.y_train = y_train\n",
    "    \n",
    "    def predict(self, X):\n",
    "        diss = distance(self.X_train, X, self.p)\n",
    "        diss_idx = np.argsort(diss) # return sorted index\n",
    "        top_k_idx = diss_idx[:self.k]\n",
    "        top_k_diss = diss[top_k_idx]\n",
    "        top_k_points = self.X_train[top_k_idx]\n",
    "        top_k_diss = diss[top_k_idx]\n",
    "        top_k_y = self.y_train[top_k_idx]\n",
    "        counter = Counter(top_k_y)\n",
    "        label = counter.most_common()[0][0]\n",
    "        return label, top_k_points, top_k_diss\n",
    "    \n",
    "    def score(self, X_test, y_test):\n",
    "        right_count = 0\n",
    "        for X, y in zip(X_test, y_test):\n",
    "            label = self.predict(X)[0]\n",
    "            if label == y:\n",
    "                right_count += 1\n",
    "        return right_count / len(X_test)"
   ]
  },
  {
   "cell_type": "code",
   "execution_count": 9,
   "metadata": {
    "colab": {},
    "colab_type": "code",
    "id": "FGpKb23Ef9ZU"
   },
   "outputs": [],
   "source": [
    "clf = KNN(X_train, y_train) #train"
   ]
  },
  {
   "cell_type": "code",
   "execution_count": 10,
   "metadata": {
    "colab": {
     "base_uri": "https://localhost:8080/",
     "height": 34
    },
    "colab_type": "code",
    "id": "K3NqSBrBf9ZW",
    "outputId": "717ef9ca-f21e-4258-89ed-13c146a3eda4"
   },
   "outputs": [
    {
     "data": {
      "text/plain": [
       "1.0"
      ]
     },
     "execution_count": 10,
     "metadata": {},
     "output_type": "execute_result"
    }
   ],
   "source": [
    "clf.score(X_test, y_test) # 在测试集上验证效果"
   ]
  },
  {
   "cell_type": "code",
   "execution_count": 11,
   "metadata": {
    "colab": {
     "base_uri": "https://localhost:8080/",
     "height": 34
    },
    "colab_type": "code",
    "id": "BkMKHgI8f9ZZ",
    "outputId": "571b96f5-26cf-4597-c825-f17416a77240"
   },
   "outputs": [
    {
     "data": {
      "text/plain": [
       "(1.0, array([[6. , 2.7]]), array([0.]))"
      ]
     },
     "execution_count": 11,
     "metadata": {},
     "output_type": "execute_result"
    }
   ],
   "source": [
    "# 对单一一个点test \n",
    "\n",
    "test_point = [6, 2.7]\n",
    "clf.predict(test_point)"
   ]
  },
  {
   "cell_type": "code",
   "execution_count": 12,
   "metadata": {
    "colab": {
     "base_uri": "https://localhost:8080/",
     "height": 300
    },
    "colab_type": "code",
    "id": "gHo2OpWPf9Zb",
    "outputId": "4d698532-4c09-4874-a0bf-620bd65d67f0"
   },
   "outputs": [
    {
     "data": {
      "text/plain": [
       "<matplotlib.legend.Legend at 0x7f813798dcc0>"
      ]
     },
     "execution_count": 12,
     "metadata": {},
     "output_type": "execute_result"
    },
    {
     "data": {
      "image/png": "[encoded data removed]",
      "text/plain": [
       "<Figure size 432x288 with 1 Axes>"
      ]
     },
     "metadata": {
      "needs_background": "light"
     },
     "output_type": "display_data"
    }
   ],
   "source": [
    "plt.scatter(df[:50]['sepal length'], df[:50]['sepal width'], label='0')\n",
    "plt.scatter(df[50:100]['sepal length'], df[50:100]['sepal width'], label='1')\n",
    "plt.plot(test_point[0], test_point[1], 'bo', label='test_point')\n",
    "plt.xlabel('sepal length')\n",
    "plt.ylabel('sepal width')\n",
    "plt.legend()"
   ]
  },
  {
   "cell_type": "markdown",
   "metadata": {
    "colab_type": "text",
    "id": "pRlHhneRzW8r"
   },
   "source": [
    "分类效果还行"
   ]
  },
  {
   "cell_type": "markdown",
   "metadata": {
    "colab_type": "text",
    "id": "MyTcfa78f9Zf"
   },
   "source": [
    "## scikitlearn 的KNN"
   ]
  },
  {
   "cell_type": "code",
   "execution_count": 13,
   "metadata": {
    "colab": {},
    "colab_type": "code",
    "id": "t1YSreNEf9Zf"
   },
   "outputs": [],
   "source": [
    "from sklearn.neighbors import KNeighborsClassifier"
   ]
  },
  {
   "cell_type": "code",
   "execution_count": 14,
   "metadata": {
    "colab": {
     "base_uri": "https://localhost:8080/",
     "height": 70
    },
    "colab_type": "code",
    "id": "C7pT4EVsf9Zi",
    "outputId": "9ddec378-61a7-4dd8-fb73-d4c7c07ac9cd"
   },
   "outputs": [
    {
     "data": {
      "text/plain": [
       "KNeighborsClassifier()"
      ]
     },
     "execution_count": 14,
     "metadata": {},
     "output_type": "execute_result"
    }
   ],
   "source": [
    "clf_sk = KNeighborsClassifier()\n",
    "clf_sk.fit(X_train, y_train)"
   ]
  },
  {
   "cell_type": "code",
   "execution_count": 15,
   "metadata": {
    "colab": {
     "base_uri": "https://localhost:8080/",
     "height": 34
    },
    "colab_type": "code",
    "id": "N17NEbSqf9Zl",
    "outputId": "8a5b6a23-29c2-4d15-de0c-d4f4b8869e7d"
   },
   "outputs": [
    {
     "data": {
      "text/plain": [
       "1.0"
      ]
     },
     "execution_count": 15,
     "metadata": {},
     "output_type": "execute_result"
    }
   ],
   "source": [
    "clf_sk.score(X_test, y_test)"
   ]
  },
  {
   "cell_type": "code",
   "execution_count": 22,
   "metadata": {},
   "outputs": [
    {
     "data": {
      "text/plain": [
       "KNeighborsClassifier()"
      ]
     },
     "execution_count": 22,
     "metadata": {},
     "output_type": "execute_result"
    }
   ],
   "source": [
    "clf_sk.fit(X_train,y_train)"
   ]
  },
  {
   "cell_type": "markdown",
   "metadata": {
    "colab_type": "text",
    "id": "9y79xayBf9Zq"
   },
   "source": [
    "## kd树"
   ]
  },
  {
   "cell_type": "markdown",
   "metadata": {
    "colab_type": "text",
    "id": "k_fSjR7pOr1t"
   },
   "source": [
    "### 构建kd树"
   ]
  },
  {
   "cell_type": "code",
   "execution_count": null,
   "metadata": {
    "colab": {},
    "colab_type": "code",
    "id": "69mplm2Tf9Zq"
   },
   "outputs": [],
   "source": [
    "# 算法 平衡kd树\n",
    "\n",
    "class KdTree:\n",
    "    \"\"\"\n",
    "    build kdtree recursively along axis, split on median point.\n",
    "    k:      k dimensions\n",
    "    method: alternate/variance, 坐标轴轮替或最大方差轴\n",
    "    \"\"\"\n",
    "    \n",
    "    def __init__(self, k=2, method='alternate'):\n",
    "        self.k = k\n",
    "        self.method = method\n",
    "        \n",
    "    def build(self, points, depth=0):\n",
    "        n = len(points)\n",
    "        if n <= 0:\n",
    "            return None\n",
    "        \n",
    "        if self.method == 'alternate':\n",
    "            axis = depth % self.k\n",
    "        elif self.method == 'variance':\n",
    "            axis = np.argmax(np.var(points, axis=0), axis=0)\n",
    "        \n",
    "        sorted_points = sorted(points, key=lambda point: point[axis])\n",
    "        \n",
    "        return {\n",
    "            'point': sorted_points[n // 2],\n",
    "            'left': self.build(sorted_points[:n//2], depth+1),\n",
    "            'right': self.build(sorted_points[n//2+1:], depth+1)\n",
    "        }"
   ]
  },
  {
   "cell_type": "markdown",
   "metadata": {
    "colab_type": "text",
    "id": "BOPlfGTKf9Zu"
   },
   "source": [
    "#### 例3.2"
   ]
  },
  {
   "cell_type": "code",
   "execution_count": null,
   "metadata": {
    "colab": {},
    "colab_type": "code",
    "id": "3W0H8H5Pf9Zu"
   },
   "outputs": [],
   "source": [
    "data = np.array([[2,3],[5,4],[9,6],[4,7],[8,1],[7,2]])\n",
    "\n",
    "kd1 = KdTree(k=2, method='alternate')\n",
    "tree1 = kd1.build(data)\n",
    "\n",
    "kd2 = KdTree(k=2, method='variance')\n",
    "tree2 = kd2.build(data)"
   ]
  },
  {
   "cell_type": "code",
   "execution_count": null,
   "metadata": {
    "colab": {
     "base_uri": "https://localhost:8080/",
     "height": 141
    },
    "colab_type": "code",
    "id": "HVMOPjgqDdsG",
    "outputId": "223bb9f6-55bb-4f3e-9822-74e9cd32a48c"
   },
   "outputs": [],
   "source": [
    "# friendly print\n",
    "\n",
    "pp = pprint.PrettyPrinter(indent=4)\n",
    "pp.pprint(tree1) # equal to figure. 3.4 《统计学习方法》"
   ]
  },
  {
   "cell_type": "code",
   "execution_count": null,
   "metadata": {
    "colab": {
     "base_uri": "https://localhost:8080/",
     "height": 141
    },
    "colab_type": "code",
    "id": "cdynMHq9KlYW",
    "outputId": "30304630-ee40-4d60-d7dd-1edbf601ba8b"
   },
   "outputs": [],
   "source": [
    "pp.pprint(tree2) # 在该数据集上两种方法结果一样"
   ]
  },
  {
   "cell_type": "markdown",
   "metadata": {
    "colab_type": "text",
    "id": "3YfbHsHPO1Es"
   },
   "source": [
    "### 查找kd树"
   ]
  },
  {
   "cell_type": "code",
   "execution_count": null,
   "metadata": {
    "colab": {},
    "colab_type": "code",
    "id": "ZT7MwyTlUaVJ"
   },
   "outputs": [],
   "source": [
    "class SearchKdTree:\n",
    "    \"\"\"\n",
    "    查找最近点\n",
    "    \"\"\"\n",
    "    def __init__(self, k=2):\n",
    "        self.k = k\n",
    "        \n",
    "    def __closer_distance(self, pivot, p1, p2):\n",
    "        if p1 is None:\n",
    "            return p2\n",
    "        if p2 is None:\n",
    "            return p1\n",
    "        \n",
    "        d1 = distance(pivot, p1)\n",
    "        d2 = distance(pivot, p2)\n",
    "\n",
    "        if d1 < d2:\n",
    "            return p1\n",
    "        else:\n",
    "            return p2\n",
    "    \n",
    "    def fit(self, root, point, depth=0):\n",
    "        if root is None:\n",
    "            return None\n",
    "        \n",
    "        axis = depth % self.k\n",
    "        \n",
    "        next_branch = None\n",
    "        opposite_branch = None\n",
    "        \n",
    "        if point[axis] < root['point'][axis]:\n",
    "            next_branch = root['left']\n",
    "            opposite_branch = root['right']\n",
    "        else:\n",
    "            next_branch = root['right']\n",
    "            opposite_branch = root['left']\n",
    "            \n",
    "        best = self.__closer_distance(point,\n",
    "                                     self.fit(next_branch,\n",
    "                                             point,\n",
    "                                             depth+1),\n",
    "                                     root['point'])\n",
    "        \n",
    "        if distance(point, best) > abs(point[axis] - root['point'][axis]):\n",
    "            best = self.__closer_distance(point,\n",
    "                                     self.fit(opposite_branch,\n",
    "                                             point,\n",
    "                                             depth+1),\n",
    "                                     best)\n",
    "            \n",
    "        return best"
   ]
  },
  {
   "cell_type": "code",
   "execution_count": null,
   "metadata": {
    "colab": {
     "base_uri": "https://localhost:8080/",
     "height": 34
    },
    "colab_type": "code",
    "id": "fPVguOtoLEk5",
    "outputId": "14a62f49-ad7d-4ec5-c484-97f0c39aca34"
   },
   "outputs": [],
   "source": [
    "# test\n",
    "point = [3.,4.5]\n",
    "\n",
    "search = SearchKdTree()\n",
    "best = search.fit(tree1, point, depth=0)\n",
    "print(best)"
   ]
  },
  {
   "cell_type": "code",
   "execution_count": null,
   "metadata": {
    "colab": {
     "base_uri": "https://localhost:8080/",
     "height": 34
    },
    "colab_type": "code",
    "id": "YXW7Q5kzbCrn",
    "outputId": "d0244098-3648-406b-bdc7-3f31361ee817"
   },
   "outputs": [],
   "source": [
    "# force computing\n",
    "def force(points, point):\n",
    "    dis = np.power(np.sum(np.power(np.abs((points - point)), 2), 1), 1/2)\n",
    "    idx = np.argmin(dis, axis=0)\n",
    "    return points[idx]\n",
    "print(force(data, point))"
   ]
  },
  {
   "cell_type": "markdown",
   "metadata": {
    "colab_type": "text",
    "id": "sKa7RDNdcbwy"
   },
   "source": [
    "##### 看上去，相比于在大量的数据点中寻找与目标最近的点，kd树不需要一个个查找,O(n)的复杂的，效率提高了。"
   ]
  },
  {
   "cell_type": "markdown",
   "metadata": {},
   "source": [
    "# 比较下 force和KD树之间运算所需的时间"
   ]
  },
  {
   "cell_type": "code",
   "execution_count": null,
   "metadata": {},
   "outputs": [],
   "source": [
    "from time import time"
   ]
  },
  {
   "cell_type": "code",
   "execution_count": null,
   "metadata": {},
   "outputs": [],
   "source": [
    "# 创建个数据集\n",
    "N = 500000\n",
    "K = 5\n",
    "points = np.random.randint(15, size=(N, K))\n",
    "points.shape"
   ]
  },
  {
   "cell_type": "code",
   "execution_count": null,
   "metadata": {},
   "outputs": [],
   "source": [
    "# generate一个kd数\n",
    "kd_tree = KdTree(k=K, method='alternate')\n",
    "tree = kd_tree.build(points)"
   ]
  },
  {
   "cell_type": "code",
   "execution_count": null,
   "metadata": {},
   "outputs": [],
   "source": [
    "# generate测试点\n",
    "test_point = np.random.randint(10, size=(K))"
   ]
  },
  {
   "cell_type": "code",
   "execution_count": null,
   "metadata": {},
   "outputs": [],
   "source": [
    "t_point = [8.,5.,1.,2.,2.]"
   ]
  },
  {
   "cell_type": "code",
   "execution_count": null,
   "metadata": {},
   "outputs": [],
   "source": [
    "# KD树找点\n",
    "\n",
    "start = time()\n",
    "seah = SearchKdTree()\n",
    "best = seah.fit(tree, t_point, depth=0)\n",
    "end = time()\n",
    "dist = distance(t_point, best)\n",
    "print('best point:{}, distance:{}, time cost:{}'.format(best, dist, end - start))"
   ]
  },
  {
   "cell_type": "code",
   "execution_count": null,
   "metadata": {},
   "outputs": [],
   "source": [
    "# force时间\n",
    "\n",
    "start = time()\n",
    "best = force(points, t_point)\n",
    "end = time()\n",
    "dist = distance(t_point, best)\n",
    "print('best point:{}, distance:{}, time cost:{}'.format(best, dist, end - start))"
   ]
  },
  {
   "cell_type": "markdown",
   "metadata": {},
   "source": [
    "看上去，相比于在大量的数据点中寻找与目标最近的点，kd树不需要一个个查找,O(n)的复杂的，看上去确实效率提高了。但是！对于numpy来说，numpy的矩阵运算是常量时间复杂度O(1)，效率极高。在内存许可的情况下，可以快速查找出符合要求的点, 速度比kd树还快, 从上面的时间消耗可以看出。"
   ]
  }
 ],
 "metadata": {
  "colab": {
   "collapsed_sections": [],
   "name": "KNN.ipynb",
   "provenance": [],
   "version": "0.3.2"
  },
  "kernelspec": {
   "display_name": "Python 3",
   "language": "python",
   "name": "python3"
  },
  "language_info": {
   "codemirror_mode": {
    "name": "ipython",
    "version": 3
   },
   "file_extension": ".py",
   "mimetype": "text/x-python",
   "name": "python",
   "nbconvert_exporter": "python",
   "pygments_lexer": "ipython3",
   "version": "3.6.7"
  }
 },
 "nbformat": 4,
 "nbformat_minor": 1
}
